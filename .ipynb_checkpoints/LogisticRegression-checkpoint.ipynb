{
 "cells": [
  {
   "cell_type": "code",
   "execution_count": 1,
   "id": "200588cc-224c-4cfa-b2ae-812df4d3f913",
   "metadata": {},
   "outputs": [],
   "source": [
    "import pandas as pd\n",
    "import numpy as np\n",
    "import matplotlib.pyplot as plt\n",
    "from sklearn import linear_model"
   ]
  },
  {
   "cell_type": "code",
   "execution_count": 2,
   "id": "d32bcb91-89dc-4d24-b0d1-68f401407fdb",
   "metadata": {},
   "outputs": [
    {
     "name": "stdout",
     "output_type": "stream",
     "text": [
      "     patient_number  cholesterol  glucose  hdl_chol chol_hdl_ratio  age  \\\n",
      "0                 1          193       77        49            3,9   19   \n",
      "1                 2          146       79        41            3,6   19   \n",
      "2                 3          217       75        54              4   20   \n",
      "3                 4          226       97        70            3,2   20   \n",
      "4                 5          164       91        67            2,4   20   \n",
      "..              ...          ...      ...       ...            ...  ...   \n",
      "385             386          227      105        44            5,2   83   \n",
      "386             387          226      279        52            4,3   84   \n",
      "387             388          301       90       118            2,6   89   \n",
      "388             389          232      184       114              2   91   \n",
      "389             390          165       94        69            2,4   92   \n",
      "\n",
      "     gender  height  weight   bmi  systolic_bp  diastolic_bp  waist  hip  \\\n",
      "0         0      61     119  22,5          118            70     32   38   \n",
      "1         0      60     135  26,4          108            58     33   40   \n",
      "2         0      67     187  29,3          110            72     40   45   \n",
      "3         0      64     114  19,6          122            64     31   39   \n",
      "4         0      70     141  20,2          122            86     32   39   \n",
      "..      ...     ...     ...   ...          ...           ...    ...  ...   \n",
      "385       0      59     125  25,2          150            90     35   40   \n",
      "386       0      60     192  37,5          144            88     41   48   \n",
      "387       0      61     115  21,7          218            90     31   41   \n",
      "388       0      61     127    24          170            82     35   38   \n",
      "389       0      62     217  39,7          160            82     51   51   \n",
      "\n",
      "    waist_hip_ratio  diabetes  \n",
      "0              0,84         0  \n",
      "1              0,83         0  \n",
      "2              0,89         0  \n",
      "3              0,79         0  \n",
      "4              0,82         0  \n",
      "..              ...       ...  \n",
      "385            0,88         0  \n",
      "386            0,85         1  \n",
      "387            0,76         0  \n",
      "388            0,92         1  \n",
      "389               1         0  \n",
      "\n",
      "[390 rows x 16 columns]\n"
     ]
    }
   ],
   "source": [
    "#Prepare Dataframe\n",
    "dataframe = pd.read_csv(\"diabetes.csv\")\n",
    "\n",
    "\n",
    "#Data cleaning\n",
    "\n",
    "#Convert diabetes to 1s and 0s (No diabetes: 0, Diabetes: 1)\n",
    "dataframe['diabetes'] = dataframe['diabetes'].map({'Diabetes': 1, 'No diabetes': 0})\n",
    "\n",
    "#Convert gender to 1s and 0s (female: 0, male: 1)\n",
    "dataframe['gender'] = dataframe['gender'].map({'male': 1, 'female': 0})\n",
    "\n",
    "print(dataframe)"
   ]
  },
  {
   "cell_type": "code",
   "execution_count": 3,
   "id": "2446bbf3-b017-4fc7-a930-e37b734be1e5",
   "metadata": {},
   "outputs": [
    {
     "data": {
      "text/html": [
       "<style>#sk-container-id-1 {color: black;}#sk-container-id-1 pre{padding: 0;}#sk-container-id-1 div.sk-toggleable {background-color: white;}#sk-container-id-1 label.sk-toggleable__label {cursor: pointer;display: block;width: 100%;margin-bottom: 0;padding: 0.3em;box-sizing: border-box;text-align: center;}#sk-container-id-1 label.sk-toggleable__label-arrow:before {content: \"▸\";float: left;margin-right: 0.25em;color: #696969;}#sk-container-id-1 label.sk-toggleable__label-arrow:hover:before {color: black;}#sk-container-id-1 div.sk-estimator:hover label.sk-toggleable__label-arrow:before {color: black;}#sk-container-id-1 div.sk-toggleable__content {max-height: 0;max-width: 0;overflow: hidden;text-align: left;background-color: #f0f8ff;}#sk-container-id-1 div.sk-toggleable__content pre {margin: 0.2em;color: black;border-radius: 0.25em;background-color: #f0f8ff;}#sk-container-id-1 input.sk-toggleable__control:checked~div.sk-toggleable__content {max-height: 200px;max-width: 100%;overflow: auto;}#sk-container-id-1 input.sk-toggleable__control:checked~label.sk-toggleable__label-arrow:before {content: \"▾\";}#sk-container-id-1 div.sk-estimator input.sk-toggleable__control:checked~label.sk-toggleable__label {background-color: #d4ebff;}#sk-container-id-1 div.sk-label input.sk-toggleable__control:checked~label.sk-toggleable__label {background-color: #d4ebff;}#sk-container-id-1 input.sk-hidden--visually {border: 0;clip: rect(1px 1px 1px 1px);clip: rect(1px, 1px, 1px, 1px);height: 1px;margin: -1px;overflow: hidden;padding: 0;position: absolute;width: 1px;}#sk-container-id-1 div.sk-estimator {font-family: monospace;background-color: #f0f8ff;border: 1px dotted black;border-radius: 0.25em;box-sizing: border-box;margin-bottom: 0.5em;}#sk-container-id-1 div.sk-estimator:hover {background-color: #d4ebff;}#sk-container-id-1 div.sk-parallel-item::after {content: \"\";width: 100%;border-bottom: 1px solid gray;flex-grow: 1;}#sk-container-id-1 div.sk-label:hover label.sk-toggleable__label {background-color: #d4ebff;}#sk-container-id-1 div.sk-serial::before {content: \"\";position: absolute;border-left: 1px solid gray;box-sizing: border-box;top: 0;bottom: 0;left: 50%;z-index: 0;}#sk-container-id-1 div.sk-serial {display: flex;flex-direction: column;align-items: center;background-color: white;padding-right: 0.2em;padding-left: 0.2em;position: relative;}#sk-container-id-1 div.sk-item {position: relative;z-index: 1;}#sk-container-id-1 div.sk-parallel {display: flex;align-items: stretch;justify-content: center;background-color: white;position: relative;}#sk-container-id-1 div.sk-item::before, #sk-container-id-1 div.sk-parallel-item::before {content: \"\";position: absolute;border-left: 1px solid gray;box-sizing: border-box;top: 0;bottom: 0;left: 50%;z-index: -1;}#sk-container-id-1 div.sk-parallel-item {display: flex;flex-direction: column;z-index: 1;position: relative;background-color: white;}#sk-container-id-1 div.sk-parallel-item:first-child::after {align-self: flex-end;width: 50%;}#sk-container-id-1 div.sk-parallel-item:last-child::after {align-self: flex-start;width: 50%;}#sk-container-id-1 div.sk-parallel-item:only-child::after {width: 0;}#sk-container-id-1 div.sk-dashed-wrapped {border: 1px dashed gray;margin: 0 0.4em 0.5em 0.4em;box-sizing: border-box;padding-bottom: 0.4em;background-color: white;}#sk-container-id-1 div.sk-label label {font-family: monospace;font-weight: bold;display: inline-block;line-height: 1.2em;}#sk-container-id-1 div.sk-label-container {text-align: center;}#sk-container-id-1 div.sk-container {/* jupyter's `normalize.less` sets `[hidden] { display: none; }` but bootstrap.min.css set `[hidden] { display: none !important; }` so we also need the `!important` here to be able to override the default hidden behavior on the sphinx rendered scikit-learn.org. See: https://github.com/scikit-learn/scikit-learn/issues/21755 */display: inline-block !important;position: relative;}#sk-container-id-1 div.sk-text-repr-fallback {display: none;}</style><div id=\"sk-container-id-1\" class=\"sk-top-container\"><div class=\"sk-text-repr-fallback\"><pre>LinearRegression()</pre><b>In a Jupyter environment, please rerun this cell to show the HTML representation or trust the notebook. <br />On GitHub, the HTML representation is unable to render, please try loading this page with nbviewer.org.</b></div><div class=\"sk-container\" hidden><div class=\"sk-item\"><div class=\"sk-estimator sk-toggleable\"><input class=\"sk-toggleable__control sk-hidden--visually\" id=\"sk-estimator-id-1\" type=\"checkbox\" checked><label for=\"sk-estimator-id-1\" class=\"sk-toggleable__label sk-toggleable__label-arrow\">LinearRegression</label><div class=\"sk-toggleable__content\"><pre>LinearRegression()</pre></div></div></div></div></div>"
      ],
      "text/plain": [
       "LinearRegression()"
      ]
     },
     "execution_count": 3,
     "metadata": {},
     "output_type": "execute_result"
    }
   ],
   "source": [
    "X = dataframe[['cholesterol', 'glucose', 'height', 'weight']].values\n",
    "y = dataframe['diabetes'].values\n",
    "\n",
    "regr = linear_model.LinearRegression()\n",
    "regr.fit(X, y)\n"
   ]
  },
  {
   "cell_type": "code",
   "execution_count": null,
   "id": "32a2d95e-703e-4e9f-8bbd-70bda92f158a",
   "metadata": {},
   "outputs": [],
   "source": []
  },
  {
   "cell_type": "code",
   "execution_count": 4,
   "id": "77f1c09e-35f3-4d44-b49f-fc9f56b555fe",
   "metadata": {},
   "outputs": [
    {
     "name": "stdout",
     "output_type": "stream",
     "text": [
      "[0.97279534]\n"
     ]
    }
   ],
   "source": [
    "predictDiabetes = regr.predict([[226, 279, 60, 192]])\n",
    "\n",
    "print(predictDiabetes)"
   ]
  }
 ],
 "metadata": {
  "kernelspec": {
   "display_name": "Python 3 (ipykernel)",
   "language": "python",
   "name": "python3"
  },
  "language_info": {
   "codemirror_mode": {
    "name": "ipython",
    "version": 3
   },
   "file_extension": ".py",
   "mimetype": "text/x-python",
   "name": "python",
   "nbconvert_exporter": "python",
   "pygments_lexer": "ipython3",
   "version": "3.10.4"
  }
 },
 "nbformat": 4,
 "nbformat_minor": 5
}
